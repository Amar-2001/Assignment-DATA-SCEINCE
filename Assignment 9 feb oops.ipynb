{
 "cells": [
  {
   "cell_type": "code",
   "execution_count": 1,
   "id": "c3a9a87f-dcd9-4cda-abdc-e217652470ef",
   "metadata": {},
   "outputs": [
    {
     "name": "stdout",
     "output_type": "stream",
     "text": [
      "Name of vehicle =  Baleno\n",
      "Name of vehicle =  180\n",
      "Name of vehicle =  27\n"
     ]
    }
   ],
   "source": [
    "# Q1, Create a vehicle class with an init method having instance variables # \n",
    "# as name_of_vehicle, max_speed and average_of_vehicle.\n",
    "\n",
    "class vehicle:\n",
    "    def __init__(self,name_of_vehicle,max_speed,average_of_vehicle):\n",
    "        self.name_of_vehicle=name_of_vehicle\n",
    "        self.max_speed=max_speed\n",
    "        self.average_of_vehicle=average_of_vehicle \n",
    "        \n",
    "    def shoInfo(self):\n",
    "        print(\"Name of vehicle = \",self.name_of_vehicle)\n",
    "        print(\"Name of vehicle = \",self.max_speed)\n",
    "        print(\"Name of vehicle = \",self.average_of_vehicle)\n",
    "        \n",
    "showResult=vehicle(\"Baleno\",180,27)\n",
    "showResult.shoInfo()\n"
   ]
  },
  {
   "cell_type": "code",
   "execution_count": 4,
   "id": "6ef2c9e5-bc60-44e6-9bc8-fe10fa21655e",
   "metadata": {},
   "outputs": [
    {
     "ename": "SyntaxError",
     "evalue": "invalid syntax (2464101643.py, line 26)",
     "output_type": "error",
     "traceback": [
      "\u001b[0;36m  Cell \u001b[0;32mIn[4], line 26\u001b[0;36m\u001b[0m\n\u001b[0;31m    def__init__(self,name_of_vehicle):\u001b[0m\n\u001b[0m                                     ^\u001b[0m\n\u001b[0;31mSyntaxError\u001b[0m\u001b[0;31m:\u001b[0m invalid syntax\n"
     ]
    }
   ],
   "source": [
    "# Q2. Create a child class car from the vehicle class created in Que 1,\n",
    "# which will inherit the vehicle class.Create a method named seating_capacity\n",
    "# which takes capacity as an argument and returns the name of the vehicle\n",
    "# and its seating capacity.\n",
    " \n",
    "\n",
    "# # parent \n",
    "# class vehicle:   \n",
    "#     def __init__(self,name_of_vehicle,max_speed,average_of_vehicle):\n",
    "#         self.name_of_vehicle=name_of_vehicle\n",
    "#         self.max_speed=max_speed\n",
    "#         self.average_of_vehicle=average_of_vehicle \n",
    "        \n",
    "#     def shoInfo(self):\n",
    "#         print(\"Name of vehicle = \",self.name_of_vehicle)\n",
    "#         print(\"Name of vehicle = \",self.max_speed)\n",
    "#         print(\"Name of vehicle = \",self.average_of_vehicle)\n",
    "        \n",
    "# showResult=vehicle(\"Baleno\",180,27)\n",
    "# showResult.shoInfo()\n",
    "\n",
    "\n",
    "\n",
    "# child class\n",
    "class car(vehicle):\n",
    "    def__init__(self,name_of_vehicle):\n",
    "        self.name_of_vehicle=name_of_vehicle\n",
    "        \n",
    "    def seating_capacity(self, no_of_seats=5):\n",
    "            return seating_capacity\n",
    "        \n",
    "    # def showInfo(self):\n",
    "    #     return self.seating_capacity \n",
    "    #     return self.name_of_vehicle \n",
    "    \n",
    "showResult=car(\"Toyota\")\n",
    "showResult.seating_capacity()\n",
    "            "
   ]
  },
  {
   "cell_type": "code",
   "execution_count": 10,
   "id": "64c81d4e-9a80-42cf-88fd-905828d5d33a",
   "metadata": {},
   "outputs": [
    {
     "ename": "SyntaxError",
     "evalue": "invalid syntax (2106952930.py, line 14)",
     "output_type": "error",
     "traceback": [
      "\u001b[0;36m  Cell \u001b[0;32mIn[10], line 14\u001b[0;36m\u001b[0m\n\u001b[0;31m    def__init__(self,name):\u001b[0m\n\u001b[0m                          ^\u001b[0m\n\u001b[0;31mSyntaxError\u001b[0m\u001b[0;31m:\u001b[0m invalid syntax\n"
     ]
    }
   ],
   "source": [
    "class Vehicle:\n",
    "    def __init__(self, name, mileage, capacity):\n",
    "        self.name = name\n",
    "        self.mileage = mileage\n",
    "        self.capacity = capacity\n",
    "\n",
    "    def display_info(self):\n",
    "        print(f\"Vehicle Name: {self.name}\")\n",
    "        print(f\"Mileage: {self.mileage} km/l\")\n",
    "        print(f\"Capacity: {self.capacity} passengers\")\n",
    "\n",
    "\n",
    "class Car(Vehicle):\n",
    "    def__init__(self,name):\n",
    "        self.name=name\n",
    "        \n",
    "    def seating_capacity(self, capacity):\n",
    "        return f\"{self.name} has a seating capacity of {capacity} passengers.\"\n",
    "        \n",
    "\n",
    "# if __name__ == \"__main__\":\n",
    "    # Creating an instance of the Car class\n",
    "    car = Car(\"Toyota Camry\")\n",
    "    car.seating_capacity()"
   ]
  },
  {
   "cell_type": "code",
   "execution_count": 9,
   "id": "1fef5fcb-15d8-4db7-bd79-06628eec0475",
   "metadata": {},
   "outputs": [],
   "source": [
    "# Q3. What is multiple inheritance? Write a python code to demonstrate multiple inheritance.\n",
    "\n",
    "# Multiple inheritance is a type of inheritance in which there is \n",
    "# multiple parent class and one child class\n",
    "\n",
    "class parent1():\n",
    "    def func1(self):\n",
    "        return \"This is function 1\"\n",
    "    \n",
    "class parent2():\n",
    "    def func2(self):\n",
    "        return \"This is function 2\"\n",
    "    \n",
    "class child(parent1,parent2):\n",
    "    pass\n",
    "        \n",
    "\n",
    "obj=child()\n"
   ]
  },
  {
   "cell_type": "code",
   "execution_count": 4,
   "id": "54516b21-9e05-4884-8429-e16fb4ec5584",
   "metadata": {},
   "outputs": [
    {
     "data": {
      "text/plain": [
       "'This is function 1'"
      ]
     },
     "execution_count": 4,
     "metadata": {},
     "output_type": "execute_result"
    }
   ],
   "source": [
    "obj.func1()\n"
   ]
  },
  {
   "cell_type": "code",
   "execution_count": 32,
   "id": "863f96a8-1657-4612-859b-f365b955041e",
   "metadata": {},
   "outputs": [
    {
     "data": {
      "text/plain": [
       "'This is function 2'"
      ]
     },
     "execution_count": 32,
     "metadata": {},
     "output_type": "execute_result"
    }
   ],
   "source": [
    "obj.func2()"
   ]
  },
  {
   "cell_type": "code",
   "execution_count": 20,
   "id": "2ea47617-ae9c-43a6-8951-e62f2356dcb1",
   "metadata": {},
   "outputs": [],
   "source": [
    "# Q4. What are getter and setter in python? Create a class and create a getter\n",
    "# and a setter method in this class.\n",
    "\n",
    "# getter and setter is method in property decorator which is used to access,modify,\n",
    "# set,get and delete value of a private variable \n",
    "\n",
    "class student:\n",
    "    def __init__(self,name,enrollment_no):\n",
    "        self.name=name\n",
    "        self.__enrollment_no=enrollment_no # private\n",
    "        \n",
    "    @property\n",
    "    def enrollment_no_access(self):\n",
    "        return self.__enrollment_no\n",
    "    \n",
    "    @enrollment_no_access.setter\n",
    "    def set_enrollment_no(self,enroll):\n",
    "        self.__enrollment_no=enroll\n",
    "        \n",
    "    @enrollment_no_access.getter\n",
    "    def get_enrollment_no(self):\n",
    "        return self.__enrollment_no "
   ]
  },
  {
   "cell_type": "code",
   "execution_count": 21,
   "id": "9f5ecc5e-1d28-487e-88c4-3035b221b22d",
   "metadata": {},
   "outputs": [
    {
     "data": {
      "text/plain": [
       "3"
      ]
     },
     "execution_count": 21,
     "metadata": {},
     "output_type": "execute_result"
    }
   ],
   "source": [
    "obj=student(\"Dheeraj\",36)\n",
    "obj.set_enrollment_no=3\n",
    "obj.get_enrollment_no"
   ]
  },
  {
   "cell_type": "code",
   "execution_count": 1,
   "id": "6d73a7f3-8178-433f-8b38-34e192abae63",
   "metadata": {},
   "outputs": [
    {
     "name": "stdout",
     "output_type": "stream",
     "text": [
      "child class\n",
      "Mobile =  Iphone 14 \n",
      "price =  120000\n"
     ]
    }
   ],
   "source": [
    "# Q5.What is method overriding in python? Write a python code to demonstrate method overriding.\n",
    "\n",
    "# method overiding in object oriented is a method where method of child class \n",
    "# has the same name as the name of method in parent class where the\n",
    "# value of method of child class will replace the value of method of parent class\n",
    "\n",
    "\n",
    "# Method overriding is an ability of any object-oriented programming language \n",
    "# that allows a subclass or child class to provide a specific implementation of \n",
    "# a method that is already provided by one of its super-classes or parent classes.\n",
    "# When a method in a subclass has the same name, same parameters or signature \n",
    "# and same return type(or sub-type) as a method in its super-class, \n",
    "# then the method in the subclass is said to override the method in the super-class.\n",
    "\n",
    "\n",
    "class parent:\n",
    "    def __init__(self):\n",
    "        self.brand=\"Iphone 12\"\n",
    "        self.price=80000\n",
    "    def showInfo(self):\n",
    "        print(\"Parent class\")\n",
    "        print(f\"Mobile = {self.brand} , price = {self.price} \")\n",
    "        \n",
    "class child(parent):\n",
    "    def __init__(self):\n",
    "        self.brand=\"Iphone 14\"\n",
    "        self.price=120000\n",
    "    def showInfo(self):\n",
    "        print(\"child class\")\n",
    "        print(\"Mobile = \",self.brand , \"\\nprice = \", self.price )\n",
    "        \n",
    "obj=child()\n",
    "obj.showInfo()\n",
    "    "
   ]
  },
  {
   "cell_type": "code",
   "execution_count": null,
   "id": "271ba270-8bdf-4666-8959-a165835509d1",
   "metadata": {},
   "outputs": [],
   "source": []
  }
 ],
 "metadata": {
  "kernelspec": {
   "display_name": "Python 3 (ipykernel)",
   "language": "python",
   "name": "python3"
  },
  "language_info": {
   "codemirror_mode": {
    "name": "ipython",
    "version": 3
   },
   "file_extension": ".py",
   "mimetype": "text/x-python",
   "name": "python",
   "nbconvert_exporter": "python",
   "pygments_lexer": "ipython3",
   "version": "3.10.8"
  }
 },
 "nbformat": 4,
 "nbformat_minor": 5
}
