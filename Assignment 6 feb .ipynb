{
 "cells": [
  {
   "cell_type": "code",
   "execution_count": 6,
   "id": "43b6d2fc-d78a-448f-ae9e-1ea033bb0caa",
   "metadata": {},
   "outputs": [],
   "source": []
  },
  {
   "cell_type": "code",
   "execution_count": 18,
   "id": "d796b97d-bbc9-4721-a0dd-8b16a2c53720",
   "metadata": {},
   "outputs": [
    {
     "name": "stdout",
     "output_type": "stream",
     "text": [
      "176758931116697904220146713100288000\n"
     ]
    }
   ],
   "source": [
    "# Q1. Create a function which will take a list as an argument\n",
    "# and return the product of all the number safter creating a flat list.\n",
    "# Use the below-given list as an argument for your function.\n",
    "\n",
    "# list1 = [1,2,3,4, [44,55,66, True], False, (34,56,78,89,34), {1,2,3,3,2,1}, {1:34, \"key2\": [55, 67, 78, 89], 4: (45,\n",
    "# 22, 61, 34)}, [56, 'data science'], 'Machine Learning']\n",
    "\n",
    "# Note: you must extract numeric keys and values of the dictionary also.\n",
    "\n",
    "\n",
    "l=[1,2,3,4, [44,55,66, True], False, (34,56,78,89,34),{1,2,3,3,2,1}, \n",
    "   {19:34, \"key2\": [55, 67, 78, 89], 9: (45, 22, 61, 34)},\n",
    "   [56, 'data science'], 'Machine Learning']\n",
    "\n",
    "def func(a):\n",
    "    l1=[] # empty list\n",
    "    for i in a: \n",
    "        \n",
    "        if type(i)==list:\n",
    "            for j in i:\n",
    "                if type(j)==int:\n",
    "                    l1.append(j)\n",
    "                    \n",
    "        elif type(i)==tuple:\n",
    "            for k in i:\n",
    "                if type(k)==int:\n",
    "                    l1.append(k)\n",
    "                   \n",
    "        elif type(i)==set:\n",
    "            for m in i:\n",
    "                if type(m)==int:\n",
    "                    l1.append(m)\n",
    "                    \n",
    "                    \n",
    "        elif type(i)==dict:   \n",
    "            \n",
    "            for n in i.keys():\n",
    "                if type(n)==int:\n",
    "                    l1.append(n)\n",
    "                \n",
    "            for n in i.values():\n",
    "                if type(n)==int:   #34\n",
    "                    l1.append(n)\n",
    "                    \n",
    "                elif type(n)==list:\n",
    "                    for n1 in n:\n",
    "                        if type(n1)==int:\n",
    "                            l1.append(n1)\n",
    "                            \n",
    "                elif type(n)==tuple:\n",
    "                    for n2 in n:\n",
    "                        if type(n2)==int:\n",
    "                            l1.append(n2)\n",
    "                        \n",
    "                    \n",
    "        elif type(i)==int:\n",
    "            l1.append(i)\n",
    "\n",
    "    return l1\n",
    "    # print(l1,end='')\n",
    "\n",
    "\n",
    "    \n",
    "s=func(l)\n",
    "l1=[]\n",
    "for i in s:\n",
    "    l1.append(i)\n",
    "\n",
    "\n",
    "\n",
    "product=1\n",
    "for num in l1:\n",
    "    product=product * num\n",
    "print(product)"
   ]
  },
  {
   "cell_type": "code",
   "execution_count": 35,
   "id": "6f3b2c3f-5070-49b0-946b-c4ddf904c372",
   "metadata": {},
   "outputs": [
    {
     "name": "stdout",
     "output_type": "stream",
     "text": [
      "Before encrypting :  I want to become a Data Scientist.\n",
      "\n",
      "After encrypting :  i$wznt$to$Yexome$z$dztz$sxientist.\n"
     ]
    }
   ],
   "source": [
    "# Q2. Write a python program for encrypting a message sent to you\n",
    "# by your friend. The logic of encryption should be such that,\n",
    "\n",
    "# for a the output should be z. \n",
    "# For b, the output should be y.\n",
    "# For c, the output should be x respectively. \n",
    "# Also, the whitespace should be replaced with a dollar sign.\n",
    "# Keep the punctuation marks unchanged.\n",
    "\n",
    "# Input Sentence: I want to become a Data Scientist.\n",
    "\n",
    "# Encrypt the above input sentence using the program you just created.\n",
    "# Note: Convert the given input sentence into lowercase\n",
    "# before encrypting. The final output should be lowercase.\n",
    "\n",
    "\n",
    "Input_Sentence = \"I want to become a Data Scientist.\"\n",
    "print(\"Before encrypting : \",Input_Sentence) # print before encryping\n",
    "\n",
    "Input_Sentence = Input_Sentence.lower()\n",
    "# before encrypting converted in lowercase\n",
    "\n",
    "d={\"a\":\"z\",\"b\":\"Y\",\"c\":\"x\",\" \":\"$\"}\n",
    "\n",
    "for i in d:\n",
    "    Input_Sentence=Input_Sentence.replace(i,d[i])\n",
    "\n",
    "print(\"\\nAfter encrypting : \",Input_Sentence)\n",
    "\n",
    "\n",
    "\n"
   ]
  },
  {
   "cell_type": "code",
   "execution_count": null,
   "id": "7c0070c3-ae16-46ff-8197-891231c3b41e",
   "metadata": {},
   "outputs": [],
   "source": []
  }
 ],
 "metadata": {
  "kernelspec": {
   "display_name": "Python 3 (ipykernel)",
   "language": "python",
   "name": "python3"
  },
  "language_info": {
   "codemirror_mode": {
    "name": "ipython",
    "version": 3
   },
   "file_extension": ".py",
   "mimetype": "text/x-python",
   "name": "python",
   "nbconvert_exporter": "python",
   "pygments_lexer": "ipython3",
   "version": "3.10.8"
  }
 },
 "nbformat": 4,
 "nbformat_minor": 5
}
