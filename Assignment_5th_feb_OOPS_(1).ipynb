{
  "cells": [
    {
      "cell_type": "code",
      "execution_count": 2,
      "id": "7cb4f19b-35fe-4f80-bd94-2728dae33763",
      "metadata": {
        "id": "7cb4f19b-35fe-4f80-bd94-2728dae33763",
        "outputId": "b276fff7-e41c-45e1-f3b7-c99bc63bbf6f",
        "colab": {
          "base_uri": "https://localhost:8080/"
        }
      },
      "outputs": [
        {
          "output_type": "stream",
          "name": "stdout",
          "text": [
            "Mobile model :  S10\n",
            "Mobile price :  100000\n"
          ]
        }
      ],
      "source": [
        "# Q1. Explain Class and Object with respect to Object-Oriented Programming. Give a suitable example.\n",
        "\n",
        "\n",
        "#Answer:-\n",
        "# Class is blueprint or tempelate for creating object\n",
        "# Class is a blueprint of a real world entity.\n",
        "# A class is defined by \"Class\" keyword\n",
        "# whenever a class is called no memory is allcoated\n",
        "# class is logical entity.\n",
        "# Class cannot be manipulated.\n",
        "\n",
        "# Object is an instance of a class that allow programmer to use function and variable from inside the class\n",
        "# Oject is also called as real worlds entity.\n",
        "# whenever object is called memory is allocated.\n",
        "# Object is physical entity.\n",
        "# Object can be manipulated.\n",
        "\n",
        "# Example: - Mobile is a class . Iphone,Blackberry are objects which have\n",
        "# different properties and behaviour but have are of same classification and is\n",
        "# that they all belongs to moblie class\n",
        "\n",
        "\n",
        "# Code examples:-\n",
        "\n",
        "class mobile:\n",
        "\n",
        "    def showInfo(self):\n",
        "        print(\"Mobile model : \",self.model)\n",
        "        print(\"Mobile price : \",self.price)\n",
        "\n",
        "samsung=mobile()# samsung = object mobile= class\n",
        "\n",
        "samsung.model=\"S10\"\n",
        "samsung.price=100000\n",
        "\n",
        "samsung.showInfo()\n"
      ]
    },
    {
      "cell_type": "code",
      "execution_count": null,
      "id": "df18b488-0260-473a-9107-17264d195e4f",
      "metadata": {
        "id": "df18b488-0260-473a-9107-17264d195e4f"
      },
      "outputs": [],
      "source": [
        "# Q2. Name the four pillars of OOPs.\n",
        "\n",
        "# Four pillars of oops are :\n",
        "\n",
        "# Inheritance\n",
        "# polymorphism\n",
        "# Encapsulation\n",
        "# Abstraction\n"
      ]
    },
    {
      "cell_type": "code",
      "execution_count": null,
      "id": "0122d53d-8e46-4971-957d-d23f7ca0355a",
      "metadata": {
        "id": "0122d53d-8e46-4971-957d-d23f7ca0355a",
        "outputId": "a688fcd5-8d2a-43cf-9760-cbb72b1f189d"
      },
      "outputs": [
        {
          "name": "stdout",
          "output_type": "stream",
          "text": [
            "\n",
            "Your name is  Rohit\n",
            "Your age is  25\n",
            "\n",
            "Your name is  Ayesha\n",
            "Your age is  28\n"
          ]
        }
      ],
      "source": [
        "# Q3. Explain why the __init__() function is used. Give a suitable example.\n",
        "\n",
        "# All classes have a function called __init__(),\n",
        "# which is always executed when the class is being initiated.\n",
        "\n",
        "# Use the __init__() function to assign values to object properties,\n",
        "# or other operations that are necessary to do when the object is being created:\n",
        "\n",
        "# Like methods, a constructor also contains a collection of\n",
        "# statements(i.e. instructions) that are executed at the time of Object creation\n",
        "# It is run as soon as an object of a class is instantiated.\n",
        "\n",
        "\n",
        "# The __init__() function is called automatically\n",
        "# every time the class is being used to create a new object.\n",
        "\n",
        "# example :-\n",
        "\n",
        "class person:\n",
        "    def __init__(self,name,age):\n",
        "        self.name=name\n",
        "        self.age=age\n",
        "\n",
        "    def showInfo(self):\n",
        "        print(\"\\nYour name is \",self.name)\n",
        "        print(\"Your age is \",self.age)\n",
        "\n",
        "p1=person(\"Rohit\",25)\n",
        "p2=person(\"Ayesha\",28)\n",
        "\n",
        "p1.showInfo()\n",
        "p2.showInfo()\n"
      ]
    },
    {
      "cell_type": "code",
      "execution_count": null,
      "id": "db84b0e6-6977-4329-96ff-4d1b150402bc",
      "metadata": {
        "id": "db84b0e6-6977-4329-96ff-4d1b150402bc",
        "outputId": "ae733a4a-26d1-45c9-c019-d77520dc1528"
      },
      "outputs": [
        {
          "name": "stdout",
          "output_type": "stream",
          "text": [
            "mango\n",
            "apple\n"
          ]
        }
      ],
      "source": [
        "# Q4. Why self is used in OOPs?\n",
        "\n",
        "# SELF represents the instance of class. This handy keyword allows you to access\n",
        "# variables, attributes, and methods of a defined class in Python.\n",
        "# The self parameter doesn't have to be\n",
        "# named “self,” as you can call it by any other name.\n",
        "\n",
        "class fruit:\n",
        "    def __init__(self,fruit1,fruit2):\n",
        "        self.fruit1=fruit1\n",
        "        self.fruit2=fruit2\n",
        "\n",
        "    def show_fruit(self):\n",
        "        print(self.fruit1)\n",
        "        print(self.fruit2)\n",
        "\n",
        "p1=fruit(\"mango\",\"apple\")\n",
        "\n",
        "p1.show_fruit()"
      ]
    },
    {
      "cell_type": "code",
      "execution_count": null,
      "id": "78228e67-8572-4977-a4d8-0e387d1607c3",
      "metadata": {
        "id": "78228e67-8572-4977-a4d8-0e387d1607c3"
      },
      "outputs": [],
      "source": [
        "# Q5. What is inheritance? Give an example for each type of inheritance.\n",
        "\n",
        "# Inheritance allow us to define a class that inherit the properties and methods from\n",
        "# another class\n",
        "\n",
        "# Parent class is the class from which inherited to, also called as Base Class\n",
        "# Child Class is a class which inherits their properties and methods\n",
        "# from another class , also called as Derived class\n",
        "\n",
        "# There are 5 types of inheritance:-\n",
        "\n",
        "# 1. single inheritance - 1 base class 1 drive class\n",
        "# 2.Multiple Inheritance - Many base class 1 drive class\n",
        "# 3.Heirarchical Inheritance - 1 Base Class Many drive class\n",
        "# 4.Multilevel Inheritance - When we have a child and grandchild relationship.\n",
        "# This means that a child class will inherit from its parent class,\n",
        "# which in turn is inheriting from its parent class.\n",
        "# 5.Hybrid Inheritance - Combination of two or more than two inheritance\n",
        "\n"
      ]
    },
    {
      "cell_type": "code",
      "execution_count": 6,
      "id": "1c69db0d-64f8-4dd3-a6b6-311ae0ae332e",
      "metadata": {
        "id": "1c69db0d-64f8-4dd3-a6b6-311ae0ae332e",
        "outputId": "c84f37ab-7210-4cca-95e1-d522f1e735ff",
        "colab": {
          "base_uri": "https://localhost:8080/"
        }
      },
      "outputs": [
        {
          "output_type": "stream",
          "name": "stdout",
          "text": [
            "This is function A inherited in class B\n"
          ]
        }
      ],
      "source": [
        "# 1. single inheritance\n",
        "\n",
        "class A:\n",
        "  def funcA(self):\n",
        "    print(\"This is function A inherited in class B\")\n",
        "\n",
        "class B(A): # inheriting class A\n",
        "  def funcB(self):\n",
        "    pass\n",
        "\n",
        "obj=B()\n",
        "obj.funcA()\n"
      ]
    },
    {
      "cell_type": "code",
      "source": [
        "# 1. Multiple inheritance\n",
        "\n",
        "# Base class\n",
        "class A:\n",
        "  def funcA(self):\n",
        "    print(\"Example of multiple Inheritance : many base class and one drive classs \\n\")\n",
        "    print(\"This is function A inherited in class C\")\n",
        "\n",
        "# Base Class\n",
        "class B(): # inheriting class A\n",
        "  def funcB(self):\n",
        "      print(\"This is function B inherited in class C\")\n",
        "\n",
        "#Drive Class\n",
        "class C(A,B):\n",
        "  pass\n",
        "\n",
        "obj=C()\n",
        "obj.funcA()\n",
        "obj.funcB()\n"
      ],
      "metadata": {
        "id": "po2q9xyR-EcV",
        "outputId": "83e28d07-3252-4d01-bbf9-1f2e64dfc9cb",
        "colab": {
          "base_uri": "https://localhost:8080/"
        }
      },
      "id": "po2q9xyR-EcV",
      "execution_count": 12,
      "outputs": [
        {
          "output_type": "stream",
          "name": "stdout",
          "text": [
            "Example of multiple Inheritance : many base class and one drive classs \n",
            "\n",
            "This is function A inherited in class C\n",
            "This is function B inherited in class C\n"
          ]
        }
      ]
    },
    {
      "cell_type": "code",
      "source": [
        "# 1. Heirarchical inheritance\n",
        "\n",
        "# Base class\n",
        "\n",
        "print(\"Example of Heirarchical Inheritance : one base class and many drive classs \\n\")\n",
        "\n",
        "class A:\n",
        "\n",
        "  def funcA(self):\n",
        "\n",
        "    print(\"This is function of Class A \")\n",
        "\n",
        "print(\"Function inherited from A class  to B class\")\n",
        "\n",
        "# Drive class\n",
        "class B(A): # inheriting class A\n",
        "  pass\n",
        "\n",
        "\n",
        "#Drive Class\n",
        "class C(A):\n",
        "  pass\n",
        "\n",
        "obj_B_class=B()\n",
        "obj_B_class.funcA()\n",
        "\n",
        "print(\"Function inherited from A class  to C class\")\n",
        "\n",
        "obj_C_class=B()\n",
        "obj_C_class.funcA()\n",
        "\n"
      ],
      "metadata": {
        "id": "a8Qa-2Qc_hRR",
        "outputId": "00eb0dae-4c9b-49c8-d3e5-28c617ee5c0c",
        "colab": {
          "base_uri": "https://localhost:8080/"
        }
      },
      "id": "a8Qa-2Qc_hRR",
      "execution_count": 23,
      "outputs": [
        {
          "output_type": "stream",
          "name": "stdout",
          "text": [
            "Example of Heirarchical Inheritance : one base class and many drive classs \n",
            "\n",
            "Function inherited from A class  to B class\n",
            "This is function of Class A \n",
            "Function inherited from A class  to C class\n",
            "This is function of Class A \n"
          ]
        }
      ]
    },
    {
      "cell_type": "code",
      "source": [
        "\n",
        "# 1. Multilevel inheritance\n",
        "\n",
        "# level 1\n",
        "class A:\n",
        "  def funcA(self):\n",
        "    print(\"Example of multiple Inheritance : many base class and one drive classs \\n\")\n",
        "    print(\"This is function A \")\n",
        "\n",
        "#  level 2\n",
        "class B(A): # inheriting class A\n",
        "  def funcB(self):\n",
        "      print(\"This is function B \")\n",
        "\n",
        "#  level 3\n",
        "class C(B): # inheriting class A\n",
        "  def funcC(self):\n",
        "      print(\"This is function C \")\n",
        "\n",
        "\n",
        "# this is inheriting C class but all the class will be inherited because all the class are inheriting each property\n",
        "class D(C):\n",
        "    pass\n",
        "\n",
        "\n",
        "obj=D()\n",
        "obj.funcA()\n",
        "obj.funcB()\n",
        "obj.funcC()\n",
        "\n"
      ],
      "metadata": {
        "id": "7jTpmBmTAuXS",
        "outputId": "a7d49e53-2c8d-4e9b-cff7-26b5201bf2f1",
        "colab": {
          "base_uri": "https://localhost:8080/"
        }
      },
      "id": "7jTpmBmTAuXS",
      "execution_count": 29,
      "outputs": [
        {
          "output_type": "stream",
          "name": "stdout",
          "text": [
            "Example of multiple Inheritance : many base class and one drive classs \n",
            "\n",
            "This is function A \n",
            "This is function B \n",
            "This is function C \n"
          ]
        }
      ]
    },
    {
      "cell_type": "code",
      "source": [
        "# Hybrid Inheritance\n",
        "\n",
        "print(\"Example of multiple Inheritance : many base class and one drive classs \\n\")\n",
        "\n",
        "class A:\n",
        "  def funcA(self):\n",
        "\n",
        "    print(\"This is function A \")\n",
        "\n",
        "# Class A inherited to class B\n",
        "class B(A): # inheriting class A\n",
        "  pass\n",
        "\n",
        "# Class A inherited to class C\n",
        "class C(A):\n",
        "  pass\n",
        "\n",
        "# Now class B and Class C inherited to class D\n",
        "class D(B,C):\n",
        "  pass\n",
        "\n",
        "\n",
        "obj=D()\n",
        "obj.funcA()\n",
        "\n",
        "\n"
      ],
      "metadata": {
        "id": "ffwuoLJHDyYx",
        "outputId": "ca3178be-59a2-4404-ce58-69bd110164d2",
        "colab": {
          "base_uri": "https://localhost:8080/"
        }
      },
      "id": "ffwuoLJHDyYx",
      "execution_count": 33,
      "outputs": [
        {
          "output_type": "stream",
          "name": "stdout",
          "text": [
            "Example of multiple Inheritance : many base class and one drive classs \n",
            "\n",
            "This is function A \n"
          ]
        }
      ]
    },
    {
      "cell_type": "code",
      "source": [],
      "metadata": {
        "id": "S76Oh2ceKCGg"
      },
      "id": "S76Oh2ceKCGg",
      "execution_count": null,
      "outputs": []
    }
  ],
  "metadata": {
    "kernelspec": {
      "display_name": "Python 3 (ipykernel)",
      "language": "python",
      "name": "python3"
    },
    "language_info": {
      "codemirror_mode": {
        "name": "ipython",
        "version": 3
      },
      "file_extension": ".py",
      "mimetype": "text/x-python",
      "name": "python",
      "nbconvert_exporter": "python",
      "pygments_lexer": "ipython3",
      "version": "3.10.8"
    },
    "colab": {
      "provenance": []
    }
  },
  "nbformat": 4,
  "nbformat_minor": 5
}