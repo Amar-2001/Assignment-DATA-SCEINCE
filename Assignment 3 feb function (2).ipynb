{
 "cells": [
  {
   "cell_type": "code",
   "execution_count": 2,
   "id": "466bfac1-57f2-464d-8386-7f61522f1c16",
   "metadata": {},
   "outputs": [
    {
     "data": {
      "text/plain": [
       "[1, 3, 5, 7, 9, 11, 13, 15, 17, 19, 21, 23, 25]"
      ]
     },
     "execution_count": 2,
     "metadata": {},
     "output_type": "execute_result"
    }
   ],
   "source": [
    "# Q1. Which keyword is used to create a function? Create a function \n",
    "# to return a list of odd numbers in the range of 1 to 25.\n",
    "\n",
    "# Ans def keyword is used to create a function \n",
    "# function to return a list of odd number in the range 1 to 25\n",
    "\n",
    "def odd():\n",
    "    l=[]\n",
    "    for i in range(1,26):\n",
    "        if i%2!=0:\n",
    "            l.append(i)\n",
    "    return l\n",
    "odd()          "
   ]
  },
  {
   "cell_type": "code",
   "execution_count": 3,
   "id": "7d826822-863e-45d6-94c3-e398faa27a86",
   "metadata": {},
   "outputs": [],
   "source": [
    "# Q2. Why *args and **kwargs is used in some functions? \n",
    "# Create a function each for *args and **kwargs to demonstrate their use.\n",
    "\n",
    "# Ans *args is used to take unlimited input in the run time and *args return type is tuple\n",
    "# while **kwargs is used to take take ulimited input and **kwargs return type is dictionary\n",
    "    "
   ]
  },
  {
   "cell_type": "code",
   "execution_count": 5,
   "id": "2d757b6c-576d-4875-bb41-94a4aeb0ee04",
   "metadata": {},
   "outputs": [
    {
     "data": {
      "text/plain": [
       "(1, 2, 'Aisha', [3, 'Masooma'])"
      ]
     },
     "execution_count": 5,
     "metadata": {},
     "output_type": "execute_result"
    }
   ],
   "source": [
    "# *args use\n",
    "def func(*args):\n",
    "    return args\n",
    "func(1,2,\"Aisha\",[3,\"Masooma\"]) # multiple input passing"
   ]
  },
  {
   "cell_type": "code",
   "execution_count": 6,
   "id": "4d2b5870-ab81-4473-98bb-c0d76418c1fd",
   "metadata": {},
   "outputs": [
    {
     "data": {
      "text/plain": [
       "tuple"
      ]
     },
     "execution_count": 6,
     "metadata": {},
     "output_type": "execute_result"
    }
   ],
   "source": [
    "# Proving that args return type is tuple \n",
    "type(func())"
   ]
  },
  {
   "cell_type": "code",
   "execution_count": 8,
   "id": "e23bc94c-fc36-4c10-b5a7-5fc267cd8c22",
   "metadata": {},
   "outputs": [
    {
     "data": {
      "text/plain": [
       "{'a': 4, 'b': 'Neha', 's': ['Sakshi', 16, 17]}"
      ]
     },
     "execution_count": 8,
     "metadata": {},
     "output_type": "execute_result"
    }
   ],
   "source": [
    "# **kwargs use\n",
    "def func2(**kwargs):\n",
    "    return kwargs\n",
    "func2(a=4,b=\"Neha\",s=[\"Sakshi\",16,17])"
   ]
  },
  {
   "cell_type": "code",
   "execution_count": 9,
   "id": "a002542f-9b78-4f0e-a0d4-2eaaa06db054",
   "metadata": {},
   "outputs": [
    {
     "data": {
      "text/plain": [
       "dict"
      ]
     },
     "execution_count": 9,
     "metadata": {},
     "output_type": "execute_result"
    }
   ],
   "source": [
    "# Proving that **kwargs return type is dictionary\n",
    "type(func2())"
   ]
  },
  {
   "cell_type": "code",
   "execution_count": 14,
   "id": "0d003263-0bc3-4a36-92c1-57bd47eddb0a",
   "metadata": {},
   "outputs": [],
   "source": [
    "# Q3. What is an iterator in python? Name the method used to initialise the iterator \n",
    "# object and the method used for iteration. Use these methods to print the \n",
    "# first five elements of the given list [2, 4, 6, 8, 10, 12, 14,16, 18, 20].\n",
    "\n",
    "# Ans :- Iterator is an object which allows you to iterate over collection of data such \n",
    "# as list , tuple , set , dictionary.\n",
    "# Iterator is used to traverse a container and access its elements.\n",
    "\n",
    "# Iter() method is  used to initialise the iterator object\n",
    "# Iter object use next() method for iteration\n",
    "\n",
    "# printing first 5 elemets of the list\n",
    "\n",
    "list=[2, 4, 6, 8, 10, 12, 14,16, 18, 20]\n",
    "list=iter(list)"
   ]
  },
  {
   "cell_type": "code",
   "execution_count": 15,
   "id": "92bb0c7e-2a96-408d-8345-d495728be3ba",
   "metadata": {},
   "outputs": [
    {
     "data": {
      "text/plain": [
       "2"
      ]
     },
     "execution_count": 15,
     "metadata": {},
     "output_type": "execute_result"
    }
   ],
   "source": [
    "next(list)"
   ]
  },
  {
   "cell_type": "code",
   "execution_count": 16,
   "id": "911e8694-1387-455c-a978-96a8fbcbfdf2",
   "metadata": {},
   "outputs": [
    {
     "data": {
      "text/plain": [
       "4"
      ]
     },
     "execution_count": 16,
     "metadata": {},
     "output_type": "execute_result"
    }
   ],
   "source": [
    "next(list)"
   ]
  },
  {
   "cell_type": "code",
   "execution_count": 17,
   "id": "93d6c8dd-9ee7-470f-92b5-2b9578a70205",
   "metadata": {},
   "outputs": [
    {
     "data": {
      "text/plain": [
       "6"
      ]
     },
     "execution_count": 17,
     "metadata": {},
     "output_type": "execute_result"
    }
   ],
   "source": [
    "next(list)"
   ]
  },
  {
   "cell_type": "code",
   "execution_count": 18,
   "id": "7bf35070-8b43-4198-afb5-81cd9c26cb0f",
   "metadata": {},
   "outputs": [
    {
     "data": {
      "text/plain": [
       "8"
      ]
     },
     "execution_count": 18,
     "metadata": {},
     "output_type": "execute_result"
    }
   ],
   "source": [
    "next(list)"
   ]
  },
  {
   "cell_type": "code",
   "execution_count": 21,
   "id": "c8eed52a-6fc6-4fab-8749-eece43cb297f",
   "metadata": {},
   "outputs": [
    {
     "data": {
      "text/plain": [
       "12"
      ]
     },
     "execution_count": 21,
     "metadata": {},
     "output_type": "execute_result"
    }
   ],
   "source": [
    "next(list)"
   ]
  },
  {
   "cell_type": "code",
   "execution_count": 22,
   "id": "044aaa52-5d1c-4ff2-a331-6bf8ac019309",
   "metadata": {},
   "outputs": [],
   "source": [
    "# printed first 5 list"
   ]
  },
  {
   "cell_type": "code",
   "execution_count": 1,
   "id": "0ffdf54e-c459-4974-8bdd-30b84c90f13b",
   "metadata": {},
   "outputs": [
    {
     "name": "stdout",
     "output_type": "stream",
     "text": [
      "<class 'generator'>\n",
      "Hello data scientists \n",
      "meet Amar\n"
     ]
    }
   ],
   "source": [
    "# Q4. What is a generator function in python? Why yield keyword is used? \n",
    "# Give an example of a generator function\n",
    "\n",
    "# Answer:- A generator function is a  normal function which generates the values \n",
    "# one by one , so that the memory utilization is low and hence memory \n",
    "# is optimized automatically but whenever it needs to generate a value it uses a\n",
    "# \"Yield keyword\" rather than a return keyword.\n",
    "# if the body of the def function uses yield keyword it automatically\n",
    "# becomes the generator function.\n",
    "\n",
    "# The yield keyword in Python controls the flow of a generator function. \n",
    "# This is similar to a return statement used for returning values in Python\n",
    "# A type of function that is memory efficient and can be used like an iterator object.\n",
    "\n",
    "def func():\n",
    "    yield \"Hello data scientists \"\n",
    "    yield \"meet Amar\"\n",
    "\n",
    "f=func() # func function in f object\n",
    "\n",
    "print(type(f))\n",
    "\n",
    "print(next(f))\n",
    "print(next(f))\n",
    "\n",
    "    \n",
    "    \n"
   ]
  },
  {
   "cell_type": "code",
   "execution_count": 61,
   "id": "77ba1d66-a95a-4013-b92d-d444b022c15c",
   "metadata": {},
   "outputs": [],
   "source": [
    "# Q5. Create a generator function for prime numbers less than 1000. \n",
    "# Use the next() method to print the first 20 prime numbers.\n",
    "\n",
    "def prime():\n",
    "    lprime=[]\n",
    "    a=0\n",
    "    for i in range(2,1000):\n",
    "        for j in range(2,(i//2)+1):\n",
    "            if i%j==0:\n",
    "                a=1\n",
    "                break\n",
    "            else:\n",
    "                a=0\n",
    "        if(a==0):\n",
    "            yield i    \n",
    "            "
   ]
  },
  {
   "cell_type": "code",
   "execution_count": 62,
   "id": "8228d92b-818e-4f31-8d5b-ac0e975b5c01",
   "metadata": {},
   "outputs": [],
   "source": [
    "f=prime()\n"
   ]
  },
  {
   "cell_type": "code",
   "execution_count": 63,
   "id": "5257451e-2b28-4290-a1a4-1249767525d4",
   "metadata": {},
   "outputs": [
    {
     "name": "stdout",
     "output_type": "stream",
     "text": [
      "2 3 5 7 11 13 17 19 23 29 31 37 41 43 47 53 59 61 67 71 73 "
     ]
    }
   ],
   "source": [
    "\n",
    "for i in range(21): \n",
    "    print(next(f),end=' ')"
   ]
  },
  {
   "cell_type": "code",
   "execution_count": 66,
   "id": "3f742cec-35d5-4d5e-a84b-9f94bc288d5e",
   "metadata": {},
   "outputs": [
    {
     "name": "stdout",
     "output_type": "stream",
     "text": [
      "  0  1  1  2  3  5  8  13  21  34"
     ]
    }
   ],
   "source": [
    "# Q6. Write a python program to print the first 10 Fibonacci numbers using a while loop.\n",
    "\n",
    "a=0\n",
    "b=1\n",
    "for i in range(0,10):\n",
    "    print(' ',a,end='')\n",
    "    c=a+b\n",
    "    a=b\n",
    "    b=c\n",
    "    \n",
    "    \n",
    "    "
   ]
  },
  {
   "cell_type": "code",
   "execution_count": 72,
   "id": "b958e094-b235-4360-b993-65906894b40d",
   "metadata": {},
   "outputs": [
    {
     "name": "stdout",
     "output_type": "stream",
     "text": [
      "['p', 'w', 's', 'k', 'i', 'l', 'l', 's']\n"
     ]
    }
   ],
   "source": [
    "# Q7. Write a List Comprehension to iterate through the given string: ‘pwskills’.\n",
    "# Expected output: ['p', 'w', 's', 'k', 'i', 'l', 'l', 's']\n",
    "\n",
    "list='pwskills'\n",
    "a=[x for x in list]\n",
    "print(a)\n"
   ]
  },
  {
   "cell_type": "code",
   "execution_count": 80,
   "id": "a7a43826-94b0-484b-87d4-116d41d179b2",
   "metadata": {},
   "outputs": [
    {
     "name": "stdin",
     "output_type": "stream",
     "text": [
      "Enter any number  121\n"
     ]
    },
    {
     "name": "stdout",
     "output_type": "stream",
     "text": [
      "121  is palindrome.\n"
     ]
    }
   ],
   "source": [
    "# Q8. Write a python program to check whether a given number is Palindrome \n",
    "# or not using a while loop.\n",
    "sum=0\n",
    "n=int(input(\"Enter any number \"))\n",
    "t=n\n",
    "while n>0:\n",
    "    r=n%10\n",
    "    sum = sum*10 + r\n",
    "    n=n//10 \n",
    "if(sum==t):\n",
    "    print(t,\" is palindrome.\")\n",
    "else:\n",
    "    print(t,\" is not palindrome.\")\n"
   ]
  },
  {
   "cell_type": "code",
   "execution_count": 103,
   "id": "e3d91ed1-c2b4-4caf-bd18-1929a42b2f95",
   "metadata": {},
   "outputs": [],
   "source": [
    "# Q9. Write a code to print odd numbers from 1 to 100 using list comprehension.\n",
    "# Note: Use a list comprehension to create a list from 1 to 100 and \n",
    "l1=[]\n",
    "odd=(x for x in range(1,100) if x%2!=0 )\n",
    "f=odd\n",
    "for i in f:\n",
    "    l1.append(i)"
   ]
  },
  {
   "cell_type": "code",
   "execution_count": 104,
   "id": "d217eaff-3223-45ec-a56a-c33cc47b18db",
   "metadata": {},
   "outputs": [
    {
     "name": "stdout",
     "output_type": "stream",
     "text": [
      "[1, 3, 5, 7, 9, 11, 13, 15, 17, 19, 21, 23, 25, 27, 29, 31, 33, 35, 37, 39, 41, 43, 45, 47, 49, 51, 53, 55, 57, 59, 61, 63, 65, 67, 69, 71, 73, 75, 77, 79, 81, 83, 85, 87, 89, 91, 93, 95, 97, 99]"
     ]
    }
   ],
   "source": [
    "print(l1,end='')"
   ]
  },
  {
   "cell_type": "code",
   "execution_count": null,
   "id": "00006e8b-130a-4330-baad-a61011862ea1",
   "metadata": {},
   "outputs": [],
   "source": []
  }
 ],
 "metadata": {
  "kernelspec": {
   "display_name": "Python 3 (ipykernel)",
   "language": "python",
   "name": "python3"
  },
  "language_info": {
   "codemirror_mode": {
    "name": "ipython",
    "version": 3
   },
   "file_extension": ".py",
   "mimetype": "text/x-python",
   "name": "python",
   "nbconvert_exporter": "python",
   "pygments_lexer": "ipython3",
   "version": "3.10.8"
  }
 },
 "nbformat": 4,
 "nbformat_minor": 5
}
