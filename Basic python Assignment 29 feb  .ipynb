{
 "cells": [
  {
   "cell_type": "code",
   "execution_count": null,
   "id": "b0b8fecf-47c6-4842-86e5-a0c92f853302",
   "metadata": {},
   "outputs": [],
   "source": [
    "#1.Who developed Python Programming language?\n",
    "\n",
    "# Guido Van Rossum developed python programming language and \n",
    "# released in the year 1991.\n"
   ]
  },
  {
   "cell_type": "code",
   "execution_count": 1,
   "id": "23f44261-a665-49d6-adcc-3ba32f7d0087",
   "metadata": {},
   "outputs": [],
   "source": [
    "#2.Which type of programming does python support\n",
    "\n",
    "# Python support various programming paradigm such as object oriented,\n",
    "# procedural and functional programming\n"
   ]
  },
  {
   "cell_type": "code",
   "execution_count": 2,
   "id": "1f35096e-ac63-414c-8120-f77bc4170eeb",
   "metadata": {},
   "outputs": [],
   "source": [
    "# 3.Is python case sensitive when dealing with identifiers\n",
    "\n",
    "# Yes python is a case sensitive. This means it considers uppercase\n",
    "# and lowercase letters differently."
   ]
  },
  {
   "cell_type": "code",
   "execution_count": 3,
   "id": "53e51773-5afd-4e27-9646-57ddb6a1c39c",
   "metadata": {},
   "outputs": [],
   "source": [
    "# 4.what is the correct extension of the python file\n",
    "\n",
    "# Correct extension of the python file is .py"
   ]
  },
  {
   "cell_type": "code",
   "execution_count": 4,
   "id": "246a594b-37a2-4b15-8e2a-5444eecb3ec8",
   "metadata": {},
   "outputs": [],
   "source": [
    "# 5.Is python compiled or interpreted\n",
    "\n",
    "# Python is an interpreted language. It means the source code is\n",
    "# converted into bytecode that is then executed by \n",
    "# the python virtual machine."
   ]
  },
  {
   "cell_type": "code",
   "execution_count": 5,
   "id": "8baf444b-a686-4ced-8c99-c4e06a6a1ed7",
   "metadata": {},
   "outputs": [],
   "source": [
    "# 6.Name a few blocks of code used to define in a python language\n",
    "\n",
    "# Here are some blocks of code used to define in a python language\n",
    "\n",
    "# 1. Fucntion Block\n",
    "\n",
    "# def func():\n",
    "    # function block\n",
    "    # code goes here\n",
    "\n",
    "# 2. Conditional Statement Block\n",
    "\n",
    "# if condition:\n",
    "    # execute if condition is true\n",
    "# elif condition:\n",
    "    # execute if above condition is false and this condition true\n",
    "# else:\n",
    "    # execute if all the above conditons are false\n",
    "    \n",
    "\n",
    "# 3. Loop Block\n",
    "\n",
    "# for item in iterable:\n",
    "      # run till the given iteration\n",
    "    \n",
    "# while condition is True :\n",
    "      # run until the given condition is true.\n",
    "\n",
    "# 4. Class and Object Block:\n",
    "\n",
    "# class class_name:\n",
    "    # code define methods and attribute from here\n",
    "    \n"
   ]
  },
  {
   "cell_type": "code",
   "execution_count": 6,
   "id": "18bea2dc-caf0-44af-a46a-4f324c87f051",
   "metadata": {},
   "outputs": [],
   "source": [
    "# 7.State a character used to give single line comment in python\n",
    "\n",
    "# \"#\" character is used to give single line comment in python."
   ]
  },
  {
   "cell_type": "code",
   "execution_count": 7,
   "id": "dd208e1e-c664-4b64-906f-36fd364af37c",
   "metadata": {},
   "outputs": [],
   "source": [
    "# 8. Mention function which can help us to find the version of python\n",
    "# we are currently working on\n",
    "\n",
    "# sys.version  is used to find the version of python we are currently \n",
    "# working on.\n"
   ]
  },
  {
   "cell_type": "code",
   "execution_count": 8,
   "id": "25091303-8e28-4664-bc9c-9c4608a1edd3",
   "metadata": {},
   "outputs": [],
   "source": [
    "# 9. Python support the creation of anonymous function at runtime\n",
    "# using a constructor called _______________\n",
    "\n",
    "# lambda function.\n"
   ]
  },
  {
   "cell_type": "code",
   "execution_count": 9,
   "id": "51c87756-a0cc-49df-9c75-bc4fd88493c2",
   "metadata": {},
   "outputs": [],
   "source": [
    "# 10. What does pip stand for python\n",
    "\n",
    "# pip installs packages\n"
   ]
  },
  {
   "cell_type": "code",
   "execution_count": 10,
   "id": "e59aa208-4215-4236-b48e-525c247c787b",
   "metadata": {},
   "outputs": [],
   "source": [
    "# 11.mention a few built in function in python\n",
    "\n",
    "# input()\tAllowing user input\n",
    "# int()\tReturns an integer number\n",
    "# en()\tReturns the length of an object\n",
    "# list()\tReturns a list\n",
    "# max()\tReturns the largest item in an iterable\n",
    "# min()\tReturns the smallest item in an iterable\n"
   ]
  },
  {
   "cell_type": "code",
   "execution_count": 11,
   "id": "bff69f52-2c81-4648-a24e-c86a62cab493",
   "metadata": {},
   "outputs": [],
   "source": [
    "# 12.What is the maximum possible length of identifier in python.\n",
    "\n",
    "# 79 character."
   ]
  },
  {
   "cell_type": "code",
   "execution_count": 12,
   "id": "9c54a37b-b339-4a74-b09d-58db6b9adf41",
   "metadata": {},
   "outputs": [],
   "source": [
    "# # 13. what are the benefits of using python\n",
    "\n",
    "# High-level language\n",
    "\n",
    "# Object-Oriented and Procedural  Programming language\n",
    "\n",
    "# Easy to learn syntax\n",
    "\n",
    "# Presence of third-party modules \n",
    "\n",
    "# Extensive support libraries(NumPy for numerical calculations,\n",
    "                            \n",
    "# Pandas for data analytics, etc.) \n",
    "\n",
    "# Open source and large active community base \n",
    "\n",
    "# Versatile, Easy to read, learn and write\n",
    "\n",
    "# User-friendly data structures \n",
    "\n",
    "# Dynamically typed language(No need to mention data type based\n",
    "                           \n",
    "# on the value assigned, it takes data type) \n",
    "\n",
    "# Object-Oriented and Procedural  Programming language\n",
    "\n",
    "# Portable and Interactive\n",
    "\n",
    "# Ideal for prototypes – provide more functionality with less coding\n",
    "\n",
    "# Highly Efficient(Python’s clean object-oriented design provides \n",
    "\n",
    "# Python has own unit testing framework, which makes \n",
    "# it more efficient.)\n",
    "\n",
    "# Internet of Things(IoT) Opportunities\n",
    "\n",
    "# Interpreted Language\n",
    "\n",
    "# Portable across Operating systems"
   ]
  },
  {
   "cell_type": "code",
   "execution_count": 13,
   "id": "abfe6d8e-624e-433d-a3c1-ece5e33b9e32",
   "metadata": {},
   "outputs": [],
   "source": [
    "# 14. How is memory managed in python.\n",
    "\n",
    "# In python memory management is done automatically\n",
    "# it uses reference counting, garbage collection, \n",
    "# automatic memory allocation and deallocation techniques\n",
    "# Memory pools and caching technique.\n",
    "\n",
    "# Reference Counting: Python keeps track of the number of references\n",
    "# to an object using reference counting. \n",
    "# Each object has a count that represents how many references \n",
    "# point to it. When the reference count of an object reaches zero,\n",
    "# it means that there are no more references to it, \n",
    "# and the memory occupied by that object can be freed.\n",
    "\n",
    "# Garbage Collection: In addition to reference counting,\n",
    "# Python also employs a garbage collector. \n",
    "# The garbage collector identifies and collects objects\n",
    "# that are no longer accessible or have circular references\n",
    "# (objects referring to each other in a loop). \n",
    "# It frees the memory occupied by these objects, \n",
    "# making it available for other uses.\n",
    "\n",
    "# Automatic Memory Allocation and Deallocation: \n",
    "# Python automatically handles the allocation and\n",
    "# deallocation of memory. When objects are created, \n",
    "# memory is allocated for them, and when they are no longer\n",
    "# needed or go out of scope, Python automatically \n",
    "# deallocates the memory. Developers don't have to\n",
    "# explicitly manage memory allocation and deallocation.\n",
    "\n",
    "# Memory Pools and Caching: Python uses memory pools and\n",
    "# caching mechanisms to optimize memory usage. \n",
    "# Small objects are allocated from memory pools,\n",
    "# which reduces the overhead of frequent memory allocation\n",
    "# and deallocation. Python also caches certain objects,\n",
    "# like small integers and string literals, to reuse them\n",
    "# instead of creating new instances, thus saving memory.\n",
    "\n"
   ]
  },
  {
   "cell_type": "code",
   "execution_count": 14,
   "id": "d650fc22-7e71-40ff-9df5-bfca1ade96b8",
   "metadata": {},
   "outputs": [],
   "source": [
    "# 15.How to install a python on windows and set path variables?\n",
    "\n",
    "# Right-clicking This PC and going to Properties.\n",
    "\n",
    "# Clicking on the Advanced system settings in the menu on the left.\n",
    "\n",
    "# Clicking on the Environment Variables button on the bottom right.\n",
    "\n",
    "# In the System variables section, selecting the Path variable and clicking on Edit. The next screen will show all the directories that are currently a part of the PATH variable.\n",
    "\n",
    "# Clicking on New and entering Python’s install directory.\n"
   ]
  },
  {
   "cell_type": "code",
   "execution_count": 15,
   "id": "5a6b340e-ee0d-4fb6-be08-f304a546eb38",
   "metadata": {},
   "outputs": [],
   "source": [
    "# 16.Is indentation required in python\n",
    "\n",
    "# yes indentation is required in python."
   ]
  },
  {
   "cell_type": "code",
   "execution_count": null,
   "id": "4eadcba5-83e9-44bd-8f9b-bce044123ea1",
   "metadata": {},
   "outputs": [],
   "source": []
  }
 ],
 "metadata": {
  "kernelspec": {
   "display_name": "Python 3 (ipykernel)",
   "language": "python",
   "name": "python3"
  },
  "language_info": {
   "codemirror_mode": {
    "name": "ipython",
    "version": 3
   },
   "file_extension": ".py",
   "mimetype": "text/x-python",
   "name": "python",
   "nbconvert_exporter": "python",
   "pygments_lexer": "ipython3",
   "version": "3.10.8"
  }
 },
 "nbformat": 4,
 "nbformat_minor": 5
}
