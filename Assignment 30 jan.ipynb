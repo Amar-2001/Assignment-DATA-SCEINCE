{
 "cells": [
  {
   "cell_type": "code",
   "execution_count": 1,
   "id": "00865bec-6c58-4860-88ce-a5129335190e",
   "metadata": {},
   "outputs": [
    {
     "name": "stdin",
     "output_type": "stream",
     "text": [
      "Enter the percentage =  98\n"
     ]
    },
    {
     "name": "stdout",
     "output_type": "stream",
     "text": [
      "A\n"
     ]
    }
   ],
   "source": [
    "# Q1. Write a program to accept percentage from the user and display the grade according to the \n",
    "# following criteria:\n",
    "# percentage>90 A\n",
    "# percentage>80 && percentage<=90 B\n",
    "# percentage>60 && percentage<=80 C\n",
    "# percentage<60 D\n",
    "\n",
    "\n",
    "percentage=int(input(\"Enter the percentage = \"))\n",
    "\n",
    "if percentage>90:\n",
    "    print(\"A\")\n",
    "elif percentage>80 and percentage<=90:\n",
    "    print(\"B\")\n",
    "elif percentage>60 and percentage<=80:\n",
    "    print(\"C\")\n",
    "else:\n",
    "    print(\"D\")\n"
   ]
  },
  {
   "cell_type": "code",
   "execution_count": 2,
   "id": "0316b9bf-efb7-4b2e-acba-9ee420e8e390",
   "metadata": {},
   "outputs": [
    {
     "name": "stdin",
     "output_type": "stream",
     "text": [
      "enter cost price of bike =  95000\n"
     ]
    },
    {
     "name": "stdout",
     "output_type": "stream",
     "text": [
      "10% Tax\n"
     ]
    }
   ],
   "source": [
    "# Q2. Write a program to accept the cost price of a bike and display the road tax to be paid\n",
    "# according to the following criteria\n",
    "\n",
    "# Bikeprice >100000 Tax 15%\n",
    "# Bikeprice>50000 and Bikeprices  <=100000 10% \n",
    "# Bikeprice <=50000 Tax 5%\n",
    "\n",
    "bikeprice = int (input(\"enter cost price of bike = \"))\n",
    "\n",
    "if bikeprice>100000:\n",
    "    print('15% Tax')\n",
    "elif bikeprice>50000 and bikeprice<=100000:\n",
    "    print(\"10% Tax\")\n",
    "else:\n",
    "    print(\"5% Tax\")"
   ]
  },
  {
   "cell_type": "code",
   "execution_count": 4,
   "id": "320024ae-2e36-44f3-a5ce-2b06138032e3",
   "metadata": {},
   "outputs": [
    {
     "name": "stdin",
     "output_type": "stream",
     "text": [
      "Enter the city =  Jaipur\n"
     ]
    },
    {
     "name": "stdout",
     "output_type": "stream",
     "text": [
      "Jal Mahal\n"
     ]
    }
   ],
   "source": [
    "# Q3. Accept any city from the user and display the monument of that city\n",
    "\n",
    "# Delhi : Redfort\n",
    "# Agra  : Taj Mahal \n",
    "# Jaipur: Jal Mahal\n",
    "\n",
    "city=(input(\"Enter the city = \"))\n",
    "\n",
    "if city==\"Delhi\":\n",
    "    print(\"Red Fort\")\n",
    "elif city == \"Agra\":\n",
    "    print(\"Taj Mahal\")\n",
    "elif city == \"Jaipur\":\n",
    "    print(\"Jal Mahal\")\n",
    "\n"
   ]
  },
  {
   "cell_type": "code",
   "execution_count": 2,
   "id": "c5a922cd-2e33-450c-a349-f823cb746de5",
   "metadata": {},
   "outputs": [
    {
     "name": "stdin",
     "output_type": "stream",
     "text": [
      "Enter any number :  111\n"
     ]
    },
    {
     "name": "stdout",
     "output_type": "stream",
     "text": [
      "The number 111 can be divided by 3 4 times before it is less than or equal to 10.\n"
     ]
    }
   ],
   "source": [
    "# Q4.Check how many times a number can be divided by 3 before it is less than or equal to 10\n",
    "# Check if the number is already less than or equal to 10\n",
    "\n",
    "def check_number(number):\n",
    "  count = 0\n",
    "  while number > 10:\n",
    "    number = number // 3\n",
    "    count += 1\n",
    "  if number <= 10:\n",
    "    count += 1\n",
    "  return count\n",
    "\n",
    "number = int(input(\"Enter any number : \"))\n",
    "print(f\"The number {number} can be divided by 3 {check_number(number)} times before it is less than or equal to 10.\")\n"
   ]
  },
  {
   "cell_type": "code",
   "execution_count": 16,
   "id": "98270a0e-e851-4ffa-b309-ccbdff632982",
   "metadata": {},
   "outputs": [
    {
     "name": "stdin",
     "output_type": "stream",
     "text": [
      "Enter num 54\n"
     ]
    },
    {
     "name": "stdout",
     "output_type": "stream",
     "text": [
      "5\n"
     ]
    }
   ],
   "source": [
    "#Q5. Why and when to use while loo in python.Give a detailed description in example.\n",
    "\n",
    "# we use while loop when we don't know how many times we need to iterate the loop\n",
    "\n",
    "# A \"While\" Loop is used to repeat a specific block of code an unknown number of times,\n",
    "# until a condition is met. For example, if we want to ask a user for a number\n",
    "# between 1 and 10, we don't know how many times the user may enter a larger number,\n",
    "# so we keep asking \"while the number is not between 1 and 10\".\n",
    "\n",
    "number=int(input(\"Enter num\" ))\n",
    "count = 0\n",
    "while (number > 1):\n",
    "    number = number//2\n",
    "    count=count+1   #the same as count = count + 1;\n",
    "print(count)\n",
    "\n",
    "\n",
    "                "
   ]
  },
  {
   "cell_type": "code",
   "execution_count": 34,
   "id": "a209bdfe-9dfb-4046-9897-0c7793c6d1f7",
   "metadata": {},
   "outputs": [
    {
     "name": "stdout",
     "output_type": "stream",
     "text": [
      "Pattern 1\n",
      "\n",
      "*\n",
      "**\n",
      "***\n",
      "****\n",
      "*****\n",
      "\n",
      "Pattern 2\n",
      "\n",
      "*****\n",
      "****\n",
      "***\n",
      "**\n",
      "*\n",
      "Pattern 3\n",
      "\n",
      " * \n",
      " *  *  * \n",
      " *  *  *  *  * \n",
      " *  *  *  *  *  *  * \n",
      " *  *  *  *  *  *  *  *  * \n"
     ]
    }
   ],
   "source": [
    "# Q6. Use nested while loop to print 3 different pattern\n",
    "\n",
    "\n",
    "print(\"Pattern 1\\n\")\n",
    "i=1\n",
    "while(i<=5):\n",
    "    j=1\n",
    "    while(j<=i):\n",
    "        print(\"*\",end='')\n",
    "        j+=1\n",
    "    print(\"\")\n",
    "    i+=1\n",
    "    \n",
    "print(\"\\nPattern 2\\n\")\n",
    "i=5\n",
    "while(i>=1):\n",
    "    j=1\n",
    "    while(j<=i):\n",
    "        print(\"*\",end='')\n",
    "        j+=1\n",
    "    print(\"\")\n",
    "    i-=1\n",
    "    \n",
    "    \n",
    "print(\"Pattern 3\\n\")\n",
    "i=1\n",
    "while(i<=5):\n",
    "    j=1\n",
    "    k=0\n",
    "    while(j<=i):\n",
    "        while(k!=2*i-1):\n",
    "            print(\" * \",end='')\n",
    "            k+=1\n",
    "        j+=1\n",
    "    print(\"\")\n",
    "    i+=1"
   ]
  },
  {
   "cell_type": "code",
   "execution_count": 35,
   "id": "428abde4-2f44-4656-b366-1bc42354706b",
   "metadata": {},
   "outputs": [
    {
     "name": "stdout",
     "output_type": "stream",
     "text": [
      "10\n",
      "9\n",
      "8\n",
      "7\n",
      "6\n",
      "5\n",
      "4\n",
      "3\n",
      "2\n",
      "1\n"
     ]
    }
   ],
   "source": [
    "# Q7.Reverse a while loop to print number from 10 to 1\n",
    "\n",
    "i=10\n",
    "while i>=1:\n",
    "    print(i)\n",
    "    i-=1"
   ]
  },
  {
   "cell_type": "code",
   "execution_count": 1,
   "id": "d96b42ed-59ff-4dcd-b49e-acbdbf676d5c",
   "metadata": {},
   "outputs": [
    {
     "name": "stdout",
     "output_type": "stream",
     "text": [
      "10\n",
      "9\n",
      "8\n",
      "7\n",
      "6\n",
      "5\n",
      "4\n",
      "3\n",
      "2\n",
      "1\n"
     ]
    }
   ],
   "source": [
    "# Q8.Reverse a while loop to print number from 10 to 1\n",
    "\n",
    "i=10\n",
    "while i>=1:\n",
    "    print(i)\n",
    "    i-=1"
   ]
  },
  {
   "cell_type": "code",
   "execution_count": null,
   "id": "c8537064-bc2e-461c-8a6d-f3fa3176e64c",
   "metadata": {},
   "outputs": [],
   "source": []
  }
 ],
 "metadata": {
  "kernelspec": {
   "display_name": "Python 3 (ipykernel)",
   "language": "python",
   "name": "python3"
  },
  "language_info": {
   "codemirror_mode": {
    "name": "ipython",
    "version": 3
   },
   "file_extension": ".py",
   "mimetype": "text/x-python",
   "name": "python",
   "nbconvert_exporter": "python",
   "pygments_lexer": "ipython3",
   "version": "3.10.8"
  }
 },
 "nbformat": 4,
 "nbformat_minor": 5
}
