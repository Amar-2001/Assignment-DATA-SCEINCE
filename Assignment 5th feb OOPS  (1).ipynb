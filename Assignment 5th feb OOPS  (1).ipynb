{
 "cells": [
  {
   "cell_type": "code",
   "execution_count": 32,
   "id": "7cb4f19b-35fe-4f80-bd94-2728dae33763",
   "metadata": {},
   "outputs": [
    {
     "name": "stdout",
     "output_type": "stream",
     "text": [
      "Mobile model :  S10\n",
      "Mobile price :  100000\n"
     ]
    }
   ],
   "source": [
    "# Q1. Explain Class and Object with respect to Object-Oriented Programming. Give a suitable example.\n",
    "\n",
    "\n",
    "#Answer:-\n",
    "# Class is blueprint or tempelate for creating object \n",
    "# Class is a blueprint of a real world entity.\n",
    "# A class is defined by \"Class\" keyword\n",
    "# whenever a class is called no memory is allcoated\n",
    "# class is logical entity.\n",
    "# Class cannot be manipulated.\n",
    "\n",
    "# Object is an instance of a class that allow programmer to use function and variable from inside the class\n",
    "# Oject is also called as real worlds entity.\n",
    "# whenever object is called memory is allocated.\n",
    "# Object is physical entity.\n",
    "# Object can be manipulated.\n",
    "\n",
    "# Example: - Mobile is a class . Iphone,Blackberry are objects which have \n",
    "# different properties and behaviour but have are of same classification and is \n",
    "# that they all belongs to moblie class\n",
    "\n",
    "\n",
    "# Code examples:-\n",
    "\n",
    "class mobile:     \n",
    "    \n",
    "    def showInfo(self):\n",
    "        print(\"Mobile model : \",self.model)\n",
    "        print(\"Mobile price : \",self.price)\n",
    "        \n",
    "samsung=mobile()# samsung = object mobile= class \n",
    "\n",
    "samsung.model=\"S10\"\n",
    "samsung.price=100000\n",
    "\n",
    "samsung.showInfo()\n"
   ]
  },
  {
   "cell_type": "code",
   "execution_count": 33,
   "id": "df18b488-0260-473a-9107-17264d195e4f",
   "metadata": {},
   "outputs": [],
   "source": [
    "# Q2. Name the four pillars of OOPs.\n",
    "\n",
    "# Four pillars of oops are :\n",
    "\n",
    "# Inheritance\n",
    "# polymorphism\n",
    "# Encapsulation\n",
    "# Abstraction\n"
   ]
  },
  {
   "cell_type": "code",
   "execution_count": 42,
   "id": "0122d53d-8e46-4971-957d-d23f7ca0355a",
   "metadata": {},
   "outputs": [
    {
     "name": "stdout",
     "output_type": "stream",
     "text": [
      "\n",
      "Your name is  Rohit\n",
      "Your age is  25\n",
      "\n",
      "Your name is  Ayesha\n",
      "Your age is  28\n"
     ]
    }
   ],
   "source": [
    "# Q3. Explain why the __init__() function is used. Give a suitable example.\n",
    "\n",
    "# All classes have a function called __init__(),\n",
    "# which is always executed when the class is being initiated.\n",
    "\n",
    "# Use the __init__() function to assign values to object properties,\n",
    "# or other operations that are necessary to do when the object is being created:\n",
    "\n",
    "# Like methods, a constructor also contains a collection of \n",
    "# statements(i.e. instructions) that are executed at the time of Object creation\n",
    "# It is run as soon as an object of a class is instantiated.\n",
    "\n",
    "\n",
    "# The __init__() function is called automatically\n",
    "# every time the class is being used to create a new object.\n",
    "\n",
    "# example :-\n",
    "\n",
    "class person:\n",
    "    def __init__(self,name,age):\n",
    "        self.name=name\n",
    "        self.age=age\n",
    "        \n",
    "    def showInfo(self):\n",
    "        print(\"\\nYour name is \",self.name)\n",
    "        print(\"Your age is \",self.age)\n",
    "\n",
    "p1=person(\"Rohit\",25)\n",
    "p2=person(\"Ayesha\",28)\n",
    "\n",
    "p1.showInfo()\n",
    "p2.showInfo()\n"
   ]
  },
  {
   "cell_type": "code",
   "execution_count": 45,
   "id": "db84b0e6-6977-4329-96ff-4d1b150402bc",
   "metadata": {},
   "outputs": [
    {
     "name": "stdout",
     "output_type": "stream",
     "text": [
      "mango\n",
      "apple\n"
     ]
    }
   ],
   "source": [
    "# Q4. Why self is used in OOPs?\n",
    "\n",
    "class fruit:\n",
    "    def __init__(self,fruit1,fruit2):\n",
    "        self.fruit1=fruit1\n",
    "        self.fruit2=fruit2\n",
    "    \n",
    "    def show_fruit(self):\n",
    "        print(self.fruit1)\n",
    "        print(self.fruit2)\n",
    "\n",
    "p1=fruit(\"mango\",\"apple\")\n",
    "\n",
    "p1.show_fruit()"
   ]
  },
  {
   "cell_type": "code",
   "execution_count": 48,
   "id": "78228e67-8572-4977-a4d8-0e387d1607c3",
   "metadata": {},
   "outputs": [],
   "source": [
    "# Q5. What is inheritance? Give an example for each type of inheritance.\n",
    "\n",
    "# Inheritance allow us to define a class that inherit the properties and methods from\n",
    "# another class\n",
    "\n",
    "# Parent class is the class from which inherited to, also called as Base Class\n",
    "# Child Class is a class which inherits their properties and methods \n",
    "# from another class , also called as Derived class\n",
    "\n",
    "# There are 5 types of inheritance:-\n",
    "\n",
    "# 1. single inheritance - 1 base class 1 drive class\n",
    "# 2.Multiple Inheritance - Many base class 1 drive class\n",
    "# 3.Heirarchical Inheritance - 1 Base Class Many drive class\n",
    "# 4.Multilevel Inheritance - When we have a child and grandchild relationship. \n",
    "# This means that a child class will inherit from its parent class, \n",
    "# which in turn is inheriting from its parent class.\n",
    "# 5.Hybrid Inheritance - Combination of two or more than two inheritance\n"
   ]
  },
  {
   "cell_type": "code",
   "execution_count": null,
   "id": "1c69db0d-64f8-4dd3-a6b6-311ae0ae332e",
   "metadata": {},
   "outputs": [],
   "source": []
  }
 ],
 "metadata": {
  "kernelspec": {
   "display_name": "Python 3 (ipykernel)",
   "language": "python",
   "name": "python3"
  },
  "language_info": {
   "codemirror_mode": {
    "name": "ipython",
    "version": 3
   },
   "file_extension": ".py",
   "mimetype": "text/x-python",
   "name": "python",
   "nbconvert_exporter": "python",
   "pygments_lexer": "ipython3",
   "version": "3.10.8"
  }
 },
 "nbformat": 4,
 "nbformat_minor": 5
}
