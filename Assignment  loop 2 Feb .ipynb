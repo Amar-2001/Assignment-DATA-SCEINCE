{
 "cells": [
  {
   "cell_type": "code",
   "execution_count": 7,
   "id": "93d08ed8-512c-41a3-b366-175eb8d53cbf",
   "metadata": {},
   "outputs": [
    {
     "ename": "IndentationError",
     "evalue": "unindent does not match any outer indentation level (<tokenize>, line 38)",
     "output_type": "error",
     "traceback": [
      "\u001b[0;36m  File \u001b[0;32m<tokenize>:38\u001b[0;36m\u001b[0m\n\u001b[0;31m    items=['pen','notebook','pencil','copy']\u001b[0m\n\u001b[0m    ^\u001b[0m\n\u001b[0;31mIndentationError\u001b[0m\u001b[0;31m:\u001b[0m unindent does not match any outer indentation level\n"
     ]
    }
   ],
   "source": [
    "Q1. Explain with an example each when to use a for loop and a while loop.\n",
    "\n",
    "For Loop: A for loop is an iteration method that is best used when you know \n",
    "the number of iterations ahead of time.\n",
    "It’s always followed by the initialization, expression and increment statements.\n",
    "\n",
    "Example\n",
    "\n",
    "items = ['Pen','Pencil',\"Notebook\",\"Copy\"]\n",
    "for i in items:\n",
    "    print(i)\n",
    "\n",
    "\n",
    "\n",
    "While Loop: A while loop is an iteration method that is best used\n",
    "when you don't know the number of iterations ahead of time. \n",
    "The contents of the loop are executed as long as the expression evaluates to true.\n",
    "\n",
    "Example \n",
    "\n",
    "items=['pen','notebook','pencil','copy']\n",
    "i=0\n",
    "length=len(items)\n",
    "while i<length:\n",
    "    print(items[i])\n",
    "    i=i+1\n",
    "    \n",
    "    \n",
    "# Another difference is that in for loop we dont need to write items[index] to print value\n",
    "# but in while loop we need to write items[index]\n",
    "\n",
    "items = ['Pen','Pencil',\"Notebook\",\"Copy\"]\n",
    "for i in items:\n",
    "    #print(items[i])# TypeError: list indices must be integers or slices, not str\n",
    "    print(i)# no need to write items[index] \n",
    "    \n",
    "    \n",
    " items=['pen','notebook','pencil','copy']\n",
    "i=0\n",
    "length=len(items)\n",
    "while i<length:\n",
    "    print(items[i])# need to write index otherwise it print only index number.\n",
    "    i=i+1   \n",
    "\n"
   ]
  },
  {
   "cell_type": "code",
   "execution_count": 4,
   "id": "357573df-177f-415c-97c3-035affa74baf",
   "metadata": {},
   "outputs": [
    {
     "name": "stdout",
     "output_type": "stream",
     "text": [
      "55\n",
      "3628800\n"
     ]
    }
   ],
   "source": [
    "\n",
    "# Q2. Write a python program to print the sum and product of the first 10 natural numbers\n",
    "# using for and while loop.\n",
    "\n",
    "# for loop \n",
    "\n",
    "sum=0\n",
    "product=1\n",
    "for i in range(1,11):\n",
    "    sum=sum+i\n",
    "    product = product * i\n",
    "print(sum)\n",
    "print(product)\n"
   ]
  },
  {
   "cell_type": "code",
   "execution_count": 1,
   "id": "115b103c-c1c1-49c6-a6da-40700a55ff02",
   "metadata": {},
   "outputs": [
    {
     "name": "stdout",
     "output_type": "stream",
     "text": [
      "55\n",
      "3628800\n"
     ]
    }
   ],
   "source": [
    "#while loop\n",
    "\n",
    "# #while loop\n",
    "\n",
    "add= 0 \n",
    "product = 1\n",
    "i=1\n",
    "while i<=10:\n",
    "    add=add+i\n",
    "    product=product*i\n",
    "    i=i+1\n",
    "print(add)\n",
    "print(product)\n"
   ]
  },
  {
   "cell_type": "code",
   "execution_count": null,
   "id": "d72c8ac1-cd5e-46aa-b4b1-1f964968e03c",
   "metadata": {},
   "outputs": [],
   "source": [
    "# Q3. Create a python program to compute the electricity bill for a household.\n",
    "# The per-unit charges in rupees are as follows: For the first 100 units, \n",
    "# the user will be charged Rs. 4.5 per\n",
    "# unit, for the next 100 units, the user will be charged Rs. 6 per unit, \n",
    "# and for the next 100 units, the user will\n",
    "# be charged Rs. 10 per unit, After 300 units and above the user will be \n",
    "# charged Rs. 20 per unit.\n",
    "# You are required to take the units of electricity consumed in a month from the user\n",
    "# as input.\n",
    "# Your program must pass this test case: when the unit of electricity consumed\n",
    "# by the user in a month is\n",
    "# 310, the total electricity bill should be 2250.\n",
    "\n",
    "# with and operator \n",
    "\n",
    "units=int(input(\"Enter the bill in units : \"))\n",
    "if units<=100:\n",
    "    pay_amount = 4.5 * units\n",
    "elif units>100 and units<=200:\n",
    "    pay_amount=(100*4.5) + (units-100)*6\n",
    "elif units>200 and units<=300:\n",
    "    pay_amount=(100*4.5) + (200-100)*6 + (units-200)*10\n",
    "else:\n",
    "    pay_amount=(100*4.5) + (200-100)*6 + (300-200)*10 + (units-300)*20\n",
    "print(pay_amount)\n",
    "\n",
    "# without and operator \n",
    "\n",
    "units=int(input(\"Enter the bill in units : \"))\n",
    "if units<=100:\n",
    "    pay_amount = 4.5 * units\n",
    "elif units<=200:\n",
    "    pay_amount=(100*4.5) + (units-100)*6\n",
    "elif units<=300:\n",
    "    pay_amount=(100*4.5) + (200-100)*6 + (units-200)*10\n",
    "else:\n",
    "    pay_amount=(100*4.5) + (200-100)*6 + (300-200)*10 + (units-300)*20\n",
    "print(\"%2f\"%pay_amount);\n"
   ]
  },
  {
   "cell_type": "code",
   "execution_count": 1,
   "id": "cf2f6b1c-2b76-4481-9998-9d9deb5ed5af",
   "metadata": {},
   "outputs": [
    {
     "name": "stdout",
     "output_type": "stream",
     "text": [
      "Cube of number from 1 to 100\n",
      "[1, 8, 27, 64, 125, 216, 343, 512, 729, 1000, 1331, 1728, 2197, 2744, 3375, 4096, 4913, 5832, 6859, 8000, 9261, 10648, 12167, 13824, 15625, 17576, 19683, 21952, 24389, 27000, 29791, 32768, 35937, 39304, 42875, 46656, 50653, 54872, 59319, 64000, 68921, 74088, 79507, 85184, 91125, 97336, 103823, 110592, 117649, 125000, 132651, 140608, 148877, 157464, 166375, 175616, 185193, 195112, 205379, 216000, 226981, 238328, 250047, 262144, 274625, 287496, 300763, 314432, 328509, 343000, 357911, 373248, 389017, 405224, 421875, 438976, 456533, 474552, 493039, 512000, 531441, 551368, 571787, 592704, 614125, 636056, 658503, 681472, 704969, 729000, 753571, 778688, 804357, 830584, 857375, 884736, 912673, 941192, 970299, 1000000]\n",
      "Cube of all number divided by 4 and 5\n",
      "[8, 64, 125, 216, 512, 1000, 1728, 2744, 3375, 4096, 5832, 8000, 10648, 13824, 15625, 17576, 21952, 27000, 32768, 39304, 42875, 46656, 54872, 64000, 74088, 85184, 91125, 97336, 110592, 125000, 140608, 157464, 166375, 175616, 195112, 216000, 238328, 262144, 274625, 287496, 314432, 343000, 373248, 405224, 421875, 438976, 474552, 512000, 551368, 592704, 614125, 636056, 681472, 729000, 778688, 830584, 857375, 884736, 941192, 1000000]\n"
     ]
    }
   ],
   "source": [
    "# Q4. Create a list of numbers from 1 to 100. Use for loop and while loop to\n",
    "# calculate the cube of each\n",
    "# number and if the cube of that number is divisible by 4 or 5 \n",
    "# then append that number in a list and print that list.\n",
    "\n",
    "l=[]\n",
    "l1=[]\n",
    "for i in range(1,101):\n",
    "    l.append(i**3)\n",
    "print(\"Cube of number from 1 to 100\")\n",
    "print(l)\n",
    "for j in l:\n",
    "    if j%4==0 or j%5==0:\n",
    "        l1.append(j)\n",
    "print(\"Cube of all number divided by 4 and 5\")\n",
    "print(l1)\n",
    "        "
   ]
  },
  {
   "cell_type": "code",
   "execution_count": 21,
   "id": "78dd9951-98f6-44a4-9f28-2687f0828408",
   "metadata": {},
   "outputs": [
    {
     "name": "stdout",
     "output_type": "stream",
     "text": [
      "Number of vowel in  I want to become a data scientist  =  12\n"
     ]
    }
   ],
   "source": [
    "# Q5. Write a program to filter count vowels in the below-given string.\n",
    "# string = \"I want to become a data scientist\"\n",
    "\n",
    "string = \"I want to become a data scientist\"\n",
    "vowel_count=0\n",
    "for i in string:\n",
    "    if i=='a' or i=='e' or i=='i' or i=='I' or i=='o' or i=='u':\n",
    "        vowel_count=vowel_count+1\n",
    "print(\"Number of vowel in \",string,\" = \",vowel_count)\n"
   ]
  },
  {
   "cell_type": "code",
   "execution_count": null,
   "id": "1dd13a23-9537-452c-9ac6-fb7af08e55c2",
   "metadata": {},
   "outputs": [],
   "source": []
  },
  {
   "cell_type": "code",
   "execution_count": null,
   "id": "60f4b821-a968-4093-b1f6-2fce7607329e",
   "metadata": {},
   "outputs": [],
   "source": []
  }
 ],
 "metadata": {
  "kernelspec": {
   "display_name": "Python 3 (ipykernel)",
   "language": "python",
   "name": "python3"
  },
  "language_info": {
   "codemirror_mode": {
    "name": "ipython",
    "version": 3
   },
   "file_extension": ".py",
   "mimetype": "text/x-python",
   "name": "python",
   "nbconvert_exporter": "python",
   "pygments_lexer": "ipython3",
   "version": "3.10.8"
  }
 },
 "nbformat": 4,
 "nbformat_minor": 5
}
