{
 "cells": [
  {
   "cell_type": "code",
   "execution_count": 19,
   "id": "8a9e8d96-7e59-45b4-964f-0c79c4100727",
   "metadata": {},
   "outputs": [],
   "source": [
    "# Q1. What is Abstraction in OOps? Explain with an example.\n",
    "\n",
    "# Abstraction is used to hide the internalfunctionality of the function \n",
    "# from the users. The users only interact with the basic implementation\n",
    "# of the function, but inner working is hidden.\n",
    "# User is familiar with that \"what function does\" \n",
    "# but they don't know \"how it does.\"\n",
    "\n",
    "# we all use the smartphone and very much familiar\n",
    "# with its functions such as camera, voice-recorder, call-dialing, etc., \n",
    "# but we don't know how these operations are happening in the background.\n",
    "\n",
    "# another example - When we use the TV remote to increase\n",
    "# the volume. We don't know how pressing a key increases the volume \n",
    "# of the TV. We only know to press the \"+\" button to increase the volume.\n",
    "\n",
    "# That is exactly the abstraction that works in the object-oriented concept.\n",
    "\n",
    "\n",
    "# Example\n",
    "\n",
    "import abc\n",
    "\n",
    "class Tv:\n",
    "\n",
    "    @abc.abstractmethod\n",
    "    def Volume(self):\n",
    "        pass\n",
    "    \n",
    "class increaseVolume:\n",
    "    def volume(self):\n",
    "        return \"+ button can increase volume of TV\"    \n",
    "\n",
    "class decreaseVolume:\n",
    "    def volume(self):\n",
    "        return \"- button can decrease volume of TV\"\n"
   ]
  },
  {
   "cell_type": "code",
   "execution_count": 17,
   "id": "8ebec78d-8484-469c-8e9d-022359309f28",
   "metadata": {},
   "outputs": [
    {
     "data": {
      "text/plain": [
       "'+ button can increase volume of TV'"
      ]
     },
     "execution_count": 17,
     "metadata": {},
     "output_type": "execute_result"
    }
   ],
   "source": [
    "volUp=increaseVolume()\n",
    "volUp.volume()"
   ]
  },
  {
   "cell_type": "code",
   "execution_count": 18,
   "id": "c71eab08-8921-467d-bba7-c90365e40724",
   "metadata": {},
   "outputs": [
    {
     "data": {
      "text/plain": [
       "'- button can decrease volume of TV'"
      ]
     },
     "execution_count": 18,
     "metadata": {},
     "output_type": "execute_result"
    }
   ],
   "source": [
    "volDown=decreaseVolume()\n",
    "volDown.volume()"
   ]
  },
  {
   "cell_type": "code",
   "execution_count": null,
   "id": "0220e565-25c9-4cd5-87cd-9b56b89c62a7",
   "metadata": {},
   "outputs": [],
   "source": [
    "## Q2. Differentiate between Abstraction and Encapsulation. \n",
    "# Explain with an example.\n",
    "\n",
    "# Abstraction is a process of hiding unnecessary data and \n",
    "# showing only relevant data.\n",
    "\n",
    "# Encapsulation is binding the data members with member variables. \n",
    "# This will avoid the direct access of variables, \n",
    "# because direct access of variables may violate privacy, \n",
    "# and hiding of the implementation will not be possible.\n",
    "\n",
    "# Encapsulation works like a protective wrapper that conceals the code\n",
    "# and data within the class. That data and code will be accessed outside \n",
    "# the method/member function and the class that is not the members of that class.\n",
    "\n",
    "# _________________________________________________________________________\n",
    "# An abstract class is different from abstraction,abstract classes/methods\n",
    "# are created with an intention to implement them in child class or \n",
    "# subclass. Whereas abstraction is simply hiding the data,\n",
    "# and showing only the relevant data by using access specifiers\n",
    "# like public, protected, private.\n",
    "# -----------------------------------------------------------------------------\n",
    "\n",
    "# __________________________________\n",
    "# Advantages of Abstraction \n",
    "# __________________________________\n",
    "\n",
    "# Privacy of data is maintained since only relevant data \n",
    "# is visible to the user.\n",
    "\n",
    "# Reduces the complexity of code and increases readability.\n",
    "\n",
    "# Abstraction makes applications extendable and simplifies refactoring.\n",
    "\n",
    "# When developing with the abstraction’s superior level,\n",
    "# you communicate more on the behavior and less on the implementation.\n",
    "\n",
    "# It enables effective simulation of a real-world event. \n",
    "# It helps you to invent solutions to real-world problems.\n",
    "\n",
    "# It simplifies maintaining and modifying the existing code \n",
    "# because new objects can be developed with minor differences \n",
    "# from the existing ones.\n",
    "\n",
    "# When you modify your code implemented with an abstraction,\n",
    "# the abstraction’s users need not modify their code. \n",
    "# The users need to change their code only when the abstraction changes.\n",
    "\n",
    "\n",
    "# ___________________________________\n",
    "# Advantages of Encapsulation\n",
    "# ___________________________________\n",
    "\n",
    "# It helps in binding the data members with member functions.\n",
    "\n",
    "# Improves efficiency and user friendly for error analysis.\n",
    "\n",
    "# Provides flexibility to the programmer in controlling\n",
    "# the accessibility and transparency of the data.\n",
    "\n",
    "# Your code’s user doesn’t rely on your program’s part that is expected\n",
    "# to change. When you modify your program, the users \n",
    "# need not modify their code.\n",
    "\n",
    "# You can efficiently control how your code and state modify \n",
    "# across your program’s lifetime. Encapsulation makes sure there\n",
    "# will be fewer unforeseen problems to fix\n",
    "\n",
    "\n",
    "# Abstraction represents only useful data, whereas encapsulation \n",
    "# wraps data and codes for necessary information\n",
    "\n",
    "\n",
    "# ______________\n",
    "# Hiding:\n",
    "# ______________\n",
    "\n",
    "# Abstraction provides you with a more abstract overview and\n",
    "# thus hides the complexity. Encapsulation hides the internal working, \n",
    "# which helps you to change it later.\n",
    "\n",
    "# Abstraction solves problems at the design level\n",
    "# whereas Encapsulation does at the implementation level.\n",
    "\n",
    "# Focus:\n",
    "# The prominent difference between Encapsulation and Abstraction\n",
    "# lies in the focus. Abstraction mainly focuses on what must be done,\n",
    "# whereas encapsulation mainly focuses on how it must be done. \n",
    "\n",
    "\n",
    "# ___________________________________________\n",
    "# Real world example of Abstraction\n",
    "# __________________________________________\n",
    "\n",
    "# you want to develop a banking application and are asked to gather\n",
    "# all the details of your customer. You may gather some details that are\n",
    "# irrelevant when developing a banking application. \n",
    "# Hence, you have to choose only valuable information like name, address, \n",
    "# tax info, etc. The process of fetching, removing,and selecting the \n",
    "# customer information from a pool of data is called Abstraction.\n",
    "\n",
    "# The information, once extracted, can be utilized for various applications.\n",
    "# For example, you can use the same data for job portal applications,\n",
    "# hospital applications, a Government database, etc. \n",
    "# with slight or no amendment. Therefore, it works as your Master Data.\n",
    "\n",
    "# ______________________________________________\n",
    "# Real world example of Encapsulation\n",
    "# _________________________________________________\n",
    "\n",
    "# perform tasks like capturing photos, recording audio/video,\n",
    "# listening to music, accessing the web, etc.\n",
    "# These features are common in all smartphones.\n",
    "# You don’t have to understand the internal working of these features.\n",
    "# For example, you don’t need to know how your camera recognizes \n",
    "# a human face in an image or how it calculates gamma correction. \n",
    "# You simply need to learn the software interface. \n",
    "# So, it is a real-world example of encapsulation.\n",
    "\n",
    "\n",
    "# Below are the example of Abstraction and Encapsulation\n"
   ]
  },
  {
   "cell_type": "code",
   "execution_count": 8,
   "id": "ad1fae3b-8e05-4d21-9a46-6773e1fd8b91",
   "metadata": {},
   "outputs": [
    {
     "name": "stdout",
     "output_type": "stream",
     "text": [
      "I have completed assignment 1 of pwskills\n",
      "I have completed assignment 2 of pwskills\n"
     ]
    }
   ],
   "source": [
    "# Abstraction example\n",
    "\n",
    "import abc\n",
    "class assignment:\n",
    "    @abc.abstractmethod\n",
    "    def assignment_no(self):\n",
    "        pass\n",
    "\n",
    "class assignment_1:\n",
    "    def assignment_no_1(self):\n",
    "        print(\"I have completed assignment 1 of pwskills\")\n",
    "    \n",
    "\n",
    "class assignment_2:\n",
    "    def assignment_no_2(self):\n",
    "        print(\"I have completed assignment 2 of pwskills\")\n",
    "    \n",
    "obj1=assignment_1()\n",
    "obj1.assignment_no_1()\n",
    "\n",
    "obj2=assignment_2()\n",
    "obj2.assignment_no_2()"
   ]
  },
  {
   "cell_type": "code",
   "execution_count": 16,
   "id": "878016f0-638a-4c7a-aa41-81948900b97b",
   "metadata": {},
   "outputs": [
    {
     "data": {
      "text/plain": [
       "('Sudh', 'Gaya')"
      ]
     },
     "execution_count": 16,
     "metadata": {},
     "output_type": "execute_result"
    }
   ],
   "source": [
    "# Encapsulation example \n",
    "\n",
    "class pwskills:\n",
    "    def __init__(self,name,city):\n",
    "        self.__name =name\n",
    "        self.__city=city\n",
    "        \n",
    "    \n",
    "    def setValue(self,name,city):\n",
    "        self.__name=name\n",
    "        self.__city=city\n",
    "        \n",
    "    def getValue(self):\n",
    "        return self.__name,self.__city\n",
    "        # return self.__city\n",
    "    \n",
    "obj= pwskills(\"1\",\"2\")\n",
    "obj.setValue(\"Sudh\",\"Gaya\")\n",
    "obj.getValue()\n",
    "     \n"
   ]
  },
  {
   "cell_type": "code",
   "execution_count": 19,
   "id": "5ff2f121-7436-4646-96b6-726de6f4cc54",
   "metadata": {},
   "outputs": [
    {
     "name": "stdout",
     "output_type": "stream",
     "text": [
      "area:  200\n"
     ]
    }
   ],
   "source": [
    "# Q3. What is abc module in python? Why is it used?\n",
    "\n",
    "\n",
    "\n",
    "# The 'abc' module in Python library provides the infrastructure for defining \n",
    "# custom abstract base classes. 'abc' works by marking methods of the base class as abstract. \n",
    "# This is done by @absttractmethod decorator.\n",
    "\n",
    "import abc\n",
    "\n",
    "class Shape():\n",
    "   @abc.abstractmethod\n",
    "   def area(self):\n",
    "      pass\n",
    "\n",
    "\n",
    "class Rectangle(Shape):\n",
    "   def __init__(self, x,y):\n",
    "      self.l = x\n",
    "      self.b=y\n",
    "    \n",
    "   def area(self):\n",
    "      return self.l*self.b\n",
    "    \n",
    "r = Rectangle(10,20)\n",
    "print ('area: ',r.area())\n",
    "\n"
   ]
  },
  {
   "cell_type": "code",
   "execution_count": 22,
   "id": "75a7246f-bf06-403c-9448-3b9e7076b185",
   "metadata": {},
   "outputs": [
    {
     "name": "stdout",
     "output_type": "stream",
     "text": [
      "The mileage is 30kmph\n",
      "The mileage is 27kmph \n",
      "The mileage is 25kmph \n",
      "The mileage is 24kmph \n"
     ]
    }
   ],
   "source": [
    "# Q4. How can we achieve data abstraction?\n",
    "\n",
    "# Data Abstraction in Python can be achieved through creating abstract classes \n",
    "# and inheriting them later.\n",
    "\n",
    "# Python program demonstrate  \n",
    "# abstract base class work   \n",
    "\n",
    "from abc import ABC\n",
    "\n",
    "# abstractmethod   \n",
    "class Car(ABC):   \n",
    "    def mileage(self):   \n",
    "        pass  \n",
    "  \n",
    "class Tesla(Car):   \n",
    "    def mileage(self):   \n",
    "        print(\"The mileage is 30kmph\")   \n",
    "class Suzuki(Car):   \n",
    "    def mileage(self):   \n",
    "        print(\"The mileage is 25kmph \")   \n",
    "class Duster(Car):   \n",
    "     def mileage(self):   \n",
    "          print(\"The mileage is 24kmph \")   \n",
    "  \n",
    "class Renault(Car):   \n",
    "    def mileage(self):   \n",
    "            print(\"The mileage is 27kmph \")   \n",
    "          \n",
    "# Driver code   \n",
    "t= Tesla ()   \n",
    "t.mileage()   \n",
    "  \n",
    "r = Renault()   \n",
    "r.mileage()   \n",
    "  \n",
    "s = Suzuki()   \n",
    "s.mileage()   \n",
    "d = Duster()   \n",
    "d.mileage()  \n"
   ]
  },
  {
   "cell_type": "code",
   "execution_count": null,
   "id": "b5ac585f-cfab-482b-a453-fd8b513b05aa",
   "metadata": {},
   "outputs": [],
   "source": [
    "# Q5. Can we create an instance of an abstract class? Explain your answer.\n",
    "\n",
    "# Abstract classes are not complete, as they may have some methods that are not defined.\n",
    "# So we cannot create an instance or object of an abstract class in Python.\n",
    "# If we try to instantiate the abstract class, it raises an error\n"
   ]
  }
 ],
 "metadata": {
  "kernelspec": {
   "display_name": "Python 3 (ipykernel)",
   "language": "python",
   "name": "python3"
  },
  "language_info": {
   "codemirror_mode": {
    "name": "ipython",
    "version": 3
   },
   "file_extension": ".py",
   "mimetype": "text/x-python",
   "name": "python",
   "nbconvert_exporter": "python",
   "pygments_lexer": "ipython3",
   "version": "3.10.8"
  }
 },
 "nbformat": 4,
 "nbformat_minor": 5
}
